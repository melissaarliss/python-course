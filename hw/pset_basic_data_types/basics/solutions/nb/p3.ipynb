{
 "cells": [
  {
   "cell_type": "code",
   "execution_count": null,
   "metadata": {},
   "outputs": [],
   "source": [
    "\"\"\"\n",
    "String Formatting\n",
    "\"\"\"\n",
    "\n",
    "# Create a variable that contains the first 4 lines of your favorite song. Add a comment that includes the song title and artist **each on their own line**! Now print out this variable.\n",
    "\n",
    "\"\"\"\n",
    "Dancing in the Moonlight\n",
    "King Harvest\n",
    "\"\"\"\n",
    "fave_song = '''\n",
    "We get it almost every night\n",
    "When that moon is big and bright\n",
    "It's a supernatural delight\n",
    "Everybody's dancin' in the moonlight\n",
    "'''\n",
    "\n",
    "print(fave_song)\n",
    "'''\n",
    "We get it almost every night\n",
    "When that moon is big and bright\n",
    "It's a supernatural delight\n",
    "Everybody's dancin' in the moonlight\n",
    "'''"
   ]
  }
 ],
 "metadata": {},
 "nbformat": 4,
 "nbformat_minor": 2
}
