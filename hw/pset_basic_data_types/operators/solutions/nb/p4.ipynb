{
 "cells": [
  {
   "cell_type": "code",
   "execution_count": null,
   "metadata": {},
   "outputs": [],
   "source": [
    "\"\"\"\n",
    "Addition II - Booleans\n",
    "\"\"\"\n",
    "\n",
    "# Add the below sets of variables together.\n",
    "\n",
    "# A)\n",
    "a = True\n",
    "b = True\n",
    "\n",
    "print(a + b) # 2\n",
    "\n",
    "\n",
    "# B)\n",
    "c = False\n",
    "d = False\n",
    "\n",
    "print(c + d) # 0\n",
    "\n",
    "\n",
    "# C)\n",
    "e = True\n",
    "f = False\n",
    "print(int(e) + f) # 1"
   ]
  }
 ],
 "metadata": {},
 "nbformat": 4,
 "nbformat_minor": 2
}
