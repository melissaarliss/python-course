{
 "cells": [
  {
   "cell_type": "code",
   "execution_count": null,
   "metadata": {},
   "outputs": [],
   "source": [
    "\"\"\"\n",
    "Integer & Float Operators\n",
    "\"\"\"\n",
    "\n",
    "# Complete the specified math operations. Do the next operation on the result from the previous operation.\n",
    "\n",
    "orig_var = 100\n",
    "\n",
    "# Add 50\n",
    "var1 = 100 + 50 # 150 (100 + 50)\n",
    "\n",
    "# Subtract 90\n",
    "var2 = var1 - 90 # 10 (150 - 90)\n",
    "\n",
    "# Multiply 10\n",
    "var3 = var2 * 10 # 1500 (150 * 10)\n",
    "\n",
    "# Divide 150\n",
    "var4 = var3 / 150 # 10 (1500 / 150)\n",
    "\n",
    "# Modulus 3\n",
    "var5 = var4 % 3 # 1 (10 / 3 = 3 remainder 1)"
   ]
  }
 ],
 "metadata": {},
 "nbformat": 4,
 "nbformat_minor": 2
}
