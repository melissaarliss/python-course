{
 "cells": [
  {
   "cell_type": "code",
   "execution_count": null,
   "metadata": {},
   "outputs": [],
   "source": [
    "\"\"\"\n",
    "Typcasting w. Integers & Floats\n",
    "\"\"\"\n",
    "\n",
    "# Convert these numbers into floats and back. Print out each result as well as its data type.\n",
    "\n",
    "five = 5\n",
    "zero = 0\n",
    "neg_8 = -8\n",
    "neg_22 = -22\n",
    "\n",
    "\n",
    "five = float(five)\n",
    "zero = float(zero)\n",
    "neg_8 = float(neg_8)\n",
    "neg_22 = float(neg_22)\n",
    "\n",
    "print(five, type(five)) # 5.0 <class 'float'>\n",
    "print(zero, type(zero)) # 0.0 <class 'float'>\n",
    "print(neg_8, type(neg_8)) # -8.0 <class 'float'>\n",
    "print(neg_22, type(neg_22)) # -22.0 <class 'float'>\n",
    "\n",
    "\n",
    "five = int(five)\n",
    "zero = int(zero)\n",
    "neg_8 = int(neg_8)\n",
    "neg_22 = int(neg_22)\n",
    "\n",
    "print(five, type(five)) # 5.0 <class 'int'>\n",
    "print(zero, type(zero)) # 0.0 <class 'int'>\n",
    "print(neg_8, type(neg_8)) # -8.0 <class 'int'>\n",
    "print(neg_22, type(neg_22)) # -22.0 <class 'int'>\n"
   ]
  }
 ],
 "metadata": {},
 "nbformat": 4,
 "nbformat_minor": 2
}
