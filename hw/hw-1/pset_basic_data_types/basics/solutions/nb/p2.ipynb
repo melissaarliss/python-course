{
 "cells": [
  {
   "cell_type": "code",
   "execution_count": null,
   "metadata": {},
   "outputs": [],
   "source": [
    "\"\"\"\n",
    "Basic Variables\n",
    "\"\"\"\n",
    "\n",
    "# Create a variable that represents your favorite number, and add a note to remind yourself what this variable represents. Now print it out without re-typing the number.\n",
    "\n",
    "fave_num = 12\n",
    "print(fave_num)\n",
    "\n",
    "\n",
    "\n",
    "# Create another variable that represents your favorite color, and do the same steps as above.\n",
    "\n",
    "fave_color = 'blue'\n",
    "print(fave_color)\n"
   ]
  }
 ],
 "metadata": {},
 "nbformat": 4,
 "nbformat_minor": 2
}
